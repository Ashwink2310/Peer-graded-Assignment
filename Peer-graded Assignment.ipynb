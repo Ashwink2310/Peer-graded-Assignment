{
 "cells": [
  {
   "cell_type": "code",
   "execution_count": null,
   "id": "5661eff7",
   "metadata": {},
   "outputs": [],
   "source": [
    "# Exercise 2 - Create a markdown cell with the title of the notebook."
   ]
  },
  {
   "cell_type": "markdown",
   "id": "a713fbd7",
   "metadata": {},
   "source": [
    "# Title: My Data Science Notebook"
   ]
  },
  {
   "cell_type": "code",
   "execution_count": null,
   "id": "76b32d10",
   "metadata": {},
   "outputs": [],
   "source": [
    "# Exercise 3 - Create a markdown cell for an introduction"
   ]
  },
  {
   "cell_type": "markdown",
   "id": "a1c3ac8c",
   "metadata": {},
   "source": [
    "## Introduction\n",
    "\n",
    "Welcome to my Data Science Notebook! In this notebook, we will explore various data science concepts, tools, and techniques. Data science is a multidisciplinary field that combines statistics, programming, and domain knowledge to extract valuable insights from data. Whether you're a beginner or an experienced data scientist, this notebook will provide you with a valuable resource for your data analysis and machine learning projects.\n"
   ]
  },
  {
   "cell_type": "code",
   "execution_count": null,
   "id": "8e1a2e7d",
   "metadata": {},
   "outputs": [],
   "source": [
    "# Exercise 4 - Create a markdown cell to list data science languages"
   ]
  },
  {
   "cell_type": "markdown",
   "id": "609bc709",
   "metadata": {},
   "source": [
    "## Data Science Languages\n",
    "\n",
    "Data science involves using a variety of programming languages for different tasks. Some of the key languages in data science include:\n",
    "\n",
    "1. **Python**: Python is the most widely used language in data science due to its extensive libraries and ease of use.\n",
    "\n",
    "2. **R**: R is a specialized language for statistical computing and graphics, making it popular among statisticians and data analysts.\n",
    "\n",
    "3. **SQL**: SQL (Structured Query Language) is essential for working with relational databases and querying data.\n",
    "\n",
    "4. **Julia**: Julia is known for its high-performance numerical and scientific computing capabilities.\n",
    "\n",
    "5. **SAS**: SAS (Statistical Analysis System) is used in business analytics and data management.\n",
    "\n",
    "6. **Java**: Java is sometimes used for big data processing and machine learning applications.\n",
    "\n",
    "7. **Scala**: Scala is commonly used in Apache Spark for distributed data processing."
   ]
  },
  {
   "cell_type": "code",
   "execution_count": null,
   "id": "2c43d6d2",
   "metadata": {},
   "outputs": [],
   "source": [
    "# Exercise 5 - Create a markdown cell to list data science libraries"
   ]
  },
  {
   "cell_type": "markdown",
   "id": "2b0c0643",
   "metadata": {},
   "source": [
    "## Data Science Libraries\n",
    "\n",
    "1. **NumPy**\n",
    "2. **Pandas**\n",
    "3. **Matplotlib**\n",
    "4. **Seaborn**\n",
    "5. **Scikit-Learn**\n",
    "6. **TensorFlow**\n",
    "7. **PyTorch**\n",
    "8. **SciPy**\n",
    "9. **Statsmodels**\n",
    "10. **NLTK (Natural Language Toolkit)**\n",
    "11. **XGBoost**\n",
    "12. **LightGBM**"
   ]
  },
  {
   "cell_type": "code",
   "execution_count": null,
   "id": "9d3e01f8",
   "metadata": {},
   "outputs": [],
   "source": [
    "# Exercise 6 - Create a markdown cell with a table of Data Science tools."
   ]
  },
  {
   "cell_type": "markdown",
   "id": "0eba1ffc",
   "metadata": {},
   "source": [
    "## Data Science tools:\n",
    "\n",
    "| Tool Name       | Description                                 |\n",
    "|-----------------|---------------------------------------------|\n",
    "| Python          | A versatile programming language for data analysis, machine learning, and more. |\n",
    "| Jupyter Notebook | An interactive development environment for data analysis and visualization. |\n",
    "| NumPy           | A fundamental package for scientific computing with Python, providing support for arrays and matrices. |\n",
    "| Pandas          | A data manipulation and analysis library, particularly useful for working with structured data. |\n",
    "| Matplotlib      | A popular data visualization library for creating static, animated, or interactive plots. |\n",
    "| Seaborn         | A data visualization library based on Matplotlib, designed for making attractive statistical graphics. |\n",
    "| Scikit-Learn    | A machine learning library that provides simple and efficient tools for data mining and data analysis. |\n",
    "| TensorFlow      | An open-source machine learning framework developed by Google for deep learning tasks. |\n",
    "| PyTorch         | An open-source machine learning framework that focuses on deep learning and neural networks. |\n",
    "| SQL            | A domain-specific language used for managing and querying relational databases. |\n",
    "| R              | A programming language and environment for statistical computing and graphics. |\n",
    "| Tableau        | A powerful data visualization tool for creating interactive and shareable dashboards. |\n"
   ]
  },
  {
   "cell_type": "code",
   "execution_count": 1,
   "id": "38f33c64",
   "metadata": {},
   "outputs": [],
   "source": [
    "# Exercise 7 - Create a markdown cell introducing arithmetic expression examples. "
   ]
  },
  {
   "cell_type": "markdown",
   "id": "71884a60",
   "metadata": {},
   "source": [
    "## Arithmetic Expression Examples\n",
    "\n",
    "In the world of data science and programming, arithmetic expressions play a fundamental role in performing mathematical operations. These expressions allow you to work with numbers, variables, and mathematical operations to manipulate and analyze data. Let's explore some common arithmetic expressions you might encounter:\n",
    "\n",
    "1. **Addition (+)**: Addition is used to find the sum of two or more numbers. For example, `2 + 3` results in `5`.\n",
    "\n",
    "2. **Subtraction (-)**: Subtraction is used to find the difference between two numbers. For example, `5 - 2` results in `3`.\n",
    "\n",
    "3. **Multiplication (*)**: Multiplication is used to find the product of two or more numbers. For example, `4 * 3` results in `12`.\n",
    "\n",
    "4. **Division (/)**: Division is used to find the quotient when one number is divided by another. For example, `10 / 2` results in `5`.\n",
    "\n",
    "5. **Exponentiation (**)**: Exponentiation is used to raise a number to a certain power. For example, `2 ** 3` results in `8` because it's 2 raised to the power of 3.\n",
    "\n",
    "6. **Modulo (%)**: Modulo is used to find the remainder when one number is divided by another. For example, `10 % 3` results in `1` because when 10 is divided by 3, the remainder is 1.\n"
   ]
  },
  {
   "cell_type": "code",
   "execution_count": 2,
   "id": "8ffa9d50",
   "metadata": {},
   "outputs": [],
   "source": [
    "# Exercise 8 - Create a code cell to multiply and add numbers."
   ]
  },
  {
   "cell_type": "code",
   "execution_count": 4,
   "id": "cb89dd0a",
   "metadata": {},
   "outputs": [
    {
     "data": {
      "text/plain": [
       "(15, 25)"
      ]
     },
     "execution_count": 4,
     "metadata": {},
     "output_type": "execute_result"
    }
   ],
   "source": [
    "number1 = 5\n",
    "number2 = 3\n",
    "\n",
    "result_multiplication = number1 * number2\n",
    "\n",
    "additional_number = 10\n",
    "result_addition = result_multiplication + additional_number\n",
    "\n",
    "result_multiplication, result_addition"
   ]
  },
  {
   "cell_type": "code",
   "execution_count": 3,
   "id": "d820d9e3",
   "metadata": {},
   "outputs": [],
   "source": [
    "# Exercise 9 - Create a code cell to convert minutes to hours."
   ]
  },
  {
   "cell_type": "code",
   "execution_count": 5,
   "id": "668ddf20",
   "metadata": {},
   "outputs": [
    {
     "data": {
      "text/plain": [
       "2.0"
      ]
     },
     "execution_count": 5,
     "metadata": {},
     "output_type": "execute_result"
    }
   ],
   "source": [
    "minutes = 120\n",
    "\n",
    "hours = minutes / 60\n",
    "\n",
    "hours"
   ]
  },
  {
   "cell_type": "code",
   "execution_count": 6,
   "id": "46a00456",
   "metadata": {},
   "outputs": [],
   "source": [
    "# Exercise 10 -Insert a markdown cell to list Objectives."
   ]
  },
  {
   "cell_type": "markdown",
   "id": "2f5f4f5f",
   "metadata": {},
   "source": [
    "## Objectives\n",
    "\n",
    "In this exercise, we aim to achieve the following objectives:\n",
    "\n",
    "1. Create a Jupyter Notebook cell for listing objectives.\n",
    "2. Demonstrate the conversion of minutes to hours in a code cell.\n",
    "3. Provide an example of using Python for simple arithmetic operations.\n",
    "4. Introduce the concept of using Markdown cells for documentation and explanations.\n"
   ]
  },
  {
   "cell_type": "code",
   "execution_count": null,
   "id": "a9d5416f",
   "metadata": {},
   "outputs": [],
   "source": [
    "# Exercise 11 - Create a markdown cell to indicate the Author’s name"
   ]
  },
  {
   "cell_type": "markdown",
   "id": "0f0ba931",
   "metadata": {},
   "source": [
    "## Author\n",
    "\n",
    "*Author's Name*: Ashwin Kumar"
   ]
  },
  {
   "cell_type": "code",
   "execution_count": null,
   "id": "78c5a26f",
   "metadata": {},
   "outputs": [],
   "source": []
  }
 ],
 "metadata": {
  "kernelspec": {
   "display_name": "Python 3 (ipykernel)",
   "language": "python",
   "name": "python3"
  },
  "language_info": {
   "codemirror_mode": {
    "name": "ipython",
    "version": 3
   },
   "file_extension": ".py",
   "mimetype": "text/x-python",
   "name": "python",
   "nbconvert_exporter": "python",
   "pygments_lexer": "ipython3",
   "version": "3.9.7"
  }
 },
 "nbformat": 4,
 "nbformat_minor": 5
}
